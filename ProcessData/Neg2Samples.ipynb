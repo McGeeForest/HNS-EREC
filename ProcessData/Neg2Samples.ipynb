{
 "metadata": {
  "language_info": {
   "codemirror_mode": {
    "name": "ipython",
    "version": 3
   },
   "file_extension": ".py",
   "mimetype": "text/x-python",
   "name": "python",
   "nbconvert_exporter": "python",
   "pygments_lexer": "ipython3",
   "version": "3.6.1"
  },
  "orig_nbformat": 2,
  "kernelspec": {
   "name": "python361jvsc74a57bd088013d6309127783e48f7341c9e6c33e9bae0d94834cd555ff65bb03182db54c",
   "display_name": "Python 3.6.1 64-bit ('py36torchcpu': conda)"
  },
  "metadata": {
   "interpreter": {
    "hash": "88013d6309127783e48f7341c9e6c33e9bae0d94834cd555ff65bb03182db54c"
   }
  }
 },
 "nbformat": 4,
 "nbformat_minor": 2,
 "cells": [
  {
   "cell_type": "code",
   "execution_count": 1,
   "metadata": {},
   "outputs": [],
   "source": [
    "# 第二类负采样数据--不相关问题的未被接受答案"
   ]
  },
  {
   "cell_type": "code",
   "execution_count": 2,
   "metadata": {},
   "outputs": [
    {
     "output_type": "execute_result",
     "data": {
      "text/plain": [
       "           q_id      q_time  \\\n",
       "0      53625567  1543986891   \n",
       "1      52690965  1538932562   \n",
       "2      52693305  1538949775   \n",
       "3      53976576  1546163020   \n",
       "4      53958810  1546000933   \n",
       "...         ...         ...   \n",
       "33180  53599514  1543860856   \n",
       "33181  53552715  1543561038   \n",
       "33182  53428378  1542880980   \n",
       "33183  53382369  1542660250   \n",
       "33184  53394338  1542721251   \n",
       "\n",
       "                                                  q_text      u_id      a_id  \\\n",
       "0      in java how many constructor can we create in ...      4725  53835539   \n",
       "1      randomaccessfile unexpected behavior for seek ...      4725  52691194   \n",
       "2      java .split() out of boundsi have a problem wi...      4725  52693790   \n",
       "3      generic method with stackmy code: public stati...      4725  53977248   \n",
       "4      two generic interfaces referencing each otheri...      4725  53959024   \n",
       "...                                                  ...       ...       ...   \n",
       "33180  getting specified data from model as json resp...  10668441  53603164   \n",
       "33181  how to read data from csv and write it in html...  10668441  53555494   \n",
       "33182  why im getting this error no mapping found for...  10668441  53430947   \n",
       "33183  having a `java.lang.stackoverflowerror: null` ...  10668441  53384239   \n",
       "33184  exception handling camel apachei'm new to came...  10668441  53398840   \n",
       "\n",
       "                                                  a_text      a_time  \\\n",
       "0      tl;dr for a class with reasonable functionalit...  1545144381   \n",
       "1      in the former the offset is into the file you ...  1538934276   \n",
       "2      so you have examples like this #ch id=\"\" tvg-n...  1538954935   \n",
       "3      if you really wanted to use this algorithm for...  1546169556   \n",
       "4      public abstract class tileimpl&lt;s&gt; implem...  1546002108   \n",
       "...                                                  ...         ...   \n",
       "33180  assuming you're using jackson you can add cust...  1543877569   \n",
       "33181  your modelmap will only have the last row from...  1543573090   \n",
       "33182  your view resolver doesn't seem to have a view...  1542889379   \n",
       "33183  i'd start by adding the following to you appli...  1542670986   \n",
       "33184  you should be able to use a pair of onexceptio...  1542736648   \n",
       "\n",
       "                          r  \n",
       "0      [0.0, 1.0, 0.0, 0.0]  \n",
       "1      [0.0, 1.0, 0.0, 0.0]  \n",
       "2      [0.0, 1.0, 0.0, 0.0]  \n",
       "3      [1.0, 0.0, 0.0, 0.0]  \n",
       "4      [1.0, 0.0, 0.0, 0.0]  \n",
       "...                     ...  \n",
       "33180  [1.0, 0.0, 0.0, 0.0]  \n",
       "33181  [1.0, 0.0, 0.0, 0.0]  \n",
       "33182  [0.0, 1.0, 0.0, 0.0]  \n",
       "33183  [1.0, 0.0, 0.0, 0.0]  \n",
       "33184  [1.0, 0.0, 0.0, 0.0]  \n",
       "\n",
       "[32308 rows x 8 columns]"
      ],
      "text/html": "<div>\n<style scoped>\n    .dataframe tbody tr th:only-of-type {\n        vertical-align: middle;\n    }\n\n    .dataframe tbody tr th {\n        vertical-align: top;\n    }\n\n    .dataframe thead th {\n        text-align: right;\n    }\n</style>\n<table border=\"1\" class=\"dataframe\">\n  <thead>\n    <tr style=\"text-align: right;\">\n      <th></th>\n      <th>q_id</th>\n      <th>q_time</th>\n      <th>q_text</th>\n      <th>u_id</th>\n      <th>a_id</th>\n      <th>a_text</th>\n      <th>a_time</th>\n      <th>r</th>\n    </tr>\n  </thead>\n  <tbody>\n    <tr>\n      <th>0</th>\n      <td>53625567</td>\n      <td>1543986891</td>\n      <td>in java how many constructor can we create in ...</td>\n      <td>4725</td>\n      <td>53835539</td>\n      <td>tl;dr for a class with reasonable functionalit...</td>\n      <td>1545144381</td>\n      <td>[0.0, 1.0, 0.0, 0.0]</td>\n    </tr>\n    <tr>\n      <th>1</th>\n      <td>52690965</td>\n      <td>1538932562</td>\n      <td>randomaccessfile unexpected behavior for seek ...</td>\n      <td>4725</td>\n      <td>52691194</td>\n      <td>in the former the offset is into the file you ...</td>\n      <td>1538934276</td>\n      <td>[0.0, 1.0, 0.0, 0.0]</td>\n    </tr>\n    <tr>\n      <th>2</th>\n      <td>52693305</td>\n      <td>1538949775</td>\n      <td>java .split() out of boundsi have a problem wi...</td>\n      <td>4725</td>\n      <td>52693790</td>\n      <td>so you have examples like this #ch id=\"\" tvg-n...</td>\n      <td>1538954935</td>\n      <td>[0.0, 1.0, 0.0, 0.0]</td>\n    </tr>\n    <tr>\n      <th>3</th>\n      <td>53976576</td>\n      <td>1546163020</td>\n      <td>generic method with stackmy code: public stati...</td>\n      <td>4725</td>\n      <td>53977248</td>\n      <td>if you really wanted to use this algorithm for...</td>\n      <td>1546169556</td>\n      <td>[1.0, 0.0, 0.0, 0.0]</td>\n    </tr>\n    <tr>\n      <th>4</th>\n      <td>53958810</td>\n      <td>1546000933</td>\n      <td>two generic interfaces referencing each otheri...</td>\n      <td>4725</td>\n      <td>53959024</td>\n      <td>public abstract class tileimpl&amp;lt;s&amp;gt; implem...</td>\n      <td>1546002108</td>\n      <td>[1.0, 0.0, 0.0, 0.0]</td>\n    </tr>\n    <tr>\n      <th>...</th>\n      <td>...</td>\n      <td>...</td>\n      <td>...</td>\n      <td>...</td>\n      <td>...</td>\n      <td>...</td>\n      <td>...</td>\n      <td>...</td>\n    </tr>\n    <tr>\n      <th>33180</th>\n      <td>53599514</td>\n      <td>1543860856</td>\n      <td>getting specified data from model as json resp...</td>\n      <td>10668441</td>\n      <td>53603164</td>\n      <td>assuming you're using jackson you can add cust...</td>\n      <td>1543877569</td>\n      <td>[1.0, 0.0, 0.0, 0.0]</td>\n    </tr>\n    <tr>\n      <th>33181</th>\n      <td>53552715</td>\n      <td>1543561038</td>\n      <td>how to read data from csv and write it in html...</td>\n      <td>10668441</td>\n      <td>53555494</td>\n      <td>your modelmap will only have the last row from...</td>\n      <td>1543573090</td>\n      <td>[1.0, 0.0, 0.0, 0.0]</td>\n    </tr>\n    <tr>\n      <th>33182</th>\n      <td>53428378</td>\n      <td>1542880980</td>\n      <td>why im getting this error no mapping found for...</td>\n      <td>10668441</td>\n      <td>53430947</td>\n      <td>your view resolver doesn't seem to have a view...</td>\n      <td>1542889379</td>\n      <td>[0.0, 1.0, 0.0, 0.0]</td>\n    </tr>\n    <tr>\n      <th>33183</th>\n      <td>53382369</td>\n      <td>1542660250</td>\n      <td>having a `java.lang.stackoverflowerror: null` ...</td>\n      <td>10668441</td>\n      <td>53384239</td>\n      <td>i'd start by adding the following to you appli...</td>\n      <td>1542670986</td>\n      <td>[1.0, 0.0, 0.0, 0.0]</td>\n    </tr>\n    <tr>\n      <th>33184</th>\n      <td>53394338</td>\n      <td>1542721251</td>\n      <td>exception handling camel apachei'm new to came...</td>\n      <td>10668441</td>\n      <td>53398840</td>\n      <td>you should be able to use a pair of onexceptio...</td>\n      <td>1542736648</td>\n      <td>[1.0, 0.0, 0.0, 0.0]</td>\n    </tr>\n  </tbody>\n</table>\n<p>32308 rows × 8 columns</p>\n</div>"
     },
     "metadata": {},
     "execution_count": 2
    }
   ],
   "source": [
    "import pandas as pd\n",
    "from random import sample\n",
    "qa_set_p =  \"D:/OneDriveEdu/file/project2/QAData/GetDataSet3/qa_set_u21.csv\"\n",
    "sim_q_p =  \"D:/OneDriveEdu/file/project2/QAData/GetDataSet3/sim_q_u21.csv\"\n",
    "negSamples_p = \"D:/OneDriveEdu/file/project2/QAData/GetDataSet3/neg2Samples_u21.csv\"\n",
    "negSamples1000_p = \"D:/OneDriveEdu/file/project2/QAData/GetDataSet3/neg2Samples_u21.1000.csv\"\n",
    "# 一定要去重复项目！\n",
    "qa_set = pd.read_csv(qa_set_p).drop(columns='Unnamed: 0').drop(columns='Unnamed: 0.1').drop_duplicates(['a_text', 'q_text'], keep='last')\n",
    "# qa_set.columns=['q_id','q_text', 'u_id', 'a_text', 'r', 'q_time', 'a_time']\n",
    "qa_set"
   ]
  },
  {
   "cell_type": "code",
   "execution_count": 3,
   "metadata": {},
   "outputs": [
    {
     "output_type": "execute_result",
     "data": {
      "text/plain": [
       "           q_id                                              sim_q\n",
       "0      48603980  [48603980, 53351111, 53171685, 50947995, 53775...\n",
       "1      50498949  [50498949, 49176390, 51579497, 53597053, 50967...\n",
       "2      52627023  [52627023, 52244285, 50169972, 50259051, 52190...\n",
       "3      51713421  [51713421, 48737232, 52096443, 49861669, 49894...\n",
       "4      50714411  [50714411, 50921837, 48259012, 52373766, 51928...\n",
       "...         ...                                                ...\n",
       "26124  48048396  [48048396, 49509625, 50428037, 51188982, 52302...\n",
       "26125  48048167  [48048167, 50382843, 51608509, 49045052, 53380...\n",
       "26126  48047270  [48047270, 49262755, 49597427, 53585274, 49673...\n",
       "26127  48047192  [48047192, 50875114, 53476055, 52310031, 53844...\n",
       "26128  48046839  [48046839, 50592325, 53855699, 53674447, 50155...\n",
       "\n",
       "[26129 rows x 2 columns]"
      ],
      "text/html": "<div>\n<style scoped>\n    .dataframe tbody tr th:only-of-type {\n        vertical-align: middle;\n    }\n\n    .dataframe tbody tr th {\n        vertical-align: top;\n    }\n\n    .dataframe thead th {\n        text-align: right;\n    }\n</style>\n<table border=\"1\" class=\"dataframe\">\n  <thead>\n    <tr style=\"text-align: right;\">\n      <th></th>\n      <th>q_id</th>\n      <th>sim_q</th>\n    </tr>\n  </thead>\n  <tbody>\n    <tr>\n      <th>0</th>\n      <td>48603980</td>\n      <td>[48603980, 53351111, 53171685, 50947995, 53775...</td>\n    </tr>\n    <tr>\n      <th>1</th>\n      <td>50498949</td>\n      <td>[50498949, 49176390, 51579497, 53597053, 50967...</td>\n    </tr>\n    <tr>\n      <th>2</th>\n      <td>52627023</td>\n      <td>[52627023, 52244285, 50169972, 50259051, 52190...</td>\n    </tr>\n    <tr>\n      <th>3</th>\n      <td>51713421</td>\n      <td>[51713421, 48737232, 52096443, 49861669, 49894...</td>\n    </tr>\n    <tr>\n      <th>4</th>\n      <td>50714411</td>\n      <td>[50714411, 50921837, 48259012, 52373766, 51928...</td>\n    </tr>\n    <tr>\n      <th>...</th>\n      <td>...</td>\n      <td>...</td>\n    </tr>\n    <tr>\n      <th>26124</th>\n      <td>48048396</td>\n      <td>[48048396, 49509625, 50428037, 51188982, 52302...</td>\n    </tr>\n    <tr>\n      <th>26125</th>\n      <td>48048167</td>\n      <td>[48048167, 50382843, 51608509, 49045052, 53380...</td>\n    </tr>\n    <tr>\n      <th>26126</th>\n      <td>48047270</td>\n      <td>[48047270, 49262755, 49597427, 53585274, 49673...</td>\n    </tr>\n    <tr>\n      <th>26127</th>\n      <td>48047192</td>\n      <td>[48047192, 50875114, 53476055, 52310031, 53844...</td>\n    </tr>\n    <tr>\n      <th>26128</th>\n      <td>48046839</td>\n      <td>[48046839, 50592325, 53855699, 53674447, 50155...</td>\n    </tr>\n  </tbody>\n</table>\n<p>26129 rows × 2 columns</p>\n</div>"
     },
     "metadata": {},
     "execution_count": 3
    }
   ],
   "source": [
    "sim_q = pd.read_csv(sim_q_p).drop(columns='Unnamed: 0')\n",
    "# sim_q = sim_q.head(10)\n",
    "q_id_list = list(sim_q['q_id'])\n",
    "sim_q"
   ]
  },
  {
   "cell_type": "code",
   "execution_count": 4,
   "metadata": {},
   "outputs": [
    {
     "output_type": "execute_result",
     "data": {
      "text/plain": [
       "[48379995]"
      ]
     },
     "metadata": {},
     "execution_count": 4
    }
   ],
   "source": [
    "rand_q_id = sample(q_id_list, 1)\n",
    "rand_q_id"
   ]
  },
  {
   "cell_type": "code",
   "execution_count": 5,
   "metadata": {
    "tags": []
   },
   "outputs": [
    {
     "output_type": "stream",
     "name": "stderr",
     "text": [
      "100%|██████████| 26129/26129 [09:27<00:00, 46.05it/s]\n"
     ]
    },
    {
     "output_type": "execute_result",
     "data": {
      "text/plain": [
       "q_id      26129\n",
       "u_id      26129\n",
       "q_text    26129\n",
       "a_text    26129\n",
       "q_time    26129\n",
       "a_time    26129\n",
       "r         26129\n",
       "dtype: int64"
      ]
     },
     "metadata": {},
     "execution_count": 5
    }
   ],
   "source": [
    "from tqdm import tqdm\n",
    "negSamples = pd.DataFrame()\n",
    "for index, row in tqdm(list(sim_q.iterrows())):\n",
    "    q_id = row['q_id']\n",
    "    sim_q_list = eval(row['sim_q'])\n",
    "    # print(len(sim_q_list))\n",
    "\n",
    "    if q_id not in list(qa_set[\"q_id\"]):\n",
    "        continue\n",
    "\n",
    "    p = pd.DataFrame()\n",
    "    neg_item = pd.DataFrame()\n",
    "    while True:\n",
    "        rand_q_id = sample(q_id_list, 1)[0]\n",
    "        if rand_q_id in sim_q_list:\n",
    "            # print(rand_q_id)\n",
    "            continue\n",
    "        q_df = qa_set[qa_set['q_id']==rand_q_id]\n",
    "        p = pd.concat([p, q_df[q_df['r']=='[0.0, 1.0, 0.0, 0.0]']])\n",
    "        \n",
    "        if len(p) > 0:\n",
    "            break\n",
    "    neg_item['q_id'] = [row['q_id']]\n",
    "    neg_item['u_id'] = [list(p['u_id'])[0]]\n",
    "    q_text = qa_set[qa_set['q_id']==row['q_id']][0:1]\n",
    "    neg_item['q_text'] = [list(q_text['q_text'])[0]]\n",
    "    neg_item['a_text'] = [list(p['a_text'])[0]]\n",
    "    neg_item['q_time'] = [list(p['q_time'])[0]]\n",
    "    neg_item['a_time'] = [list(p['a_time'])[0]]\n",
    "    neg_item['r'] = [[0.0,0.0,0.0,1.0]]\n",
    "    negSamples = pd.concat([negSamples, neg_item])\n",
    "negSamples[negSamples.isnull()==True].isnull().sum()"
   ]
  },
  {
   "cell_type": "code",
   "execution_count": 6,
   "metadata": {},
   "outputs": [
    {
     "output_type": "execute_result",
     "data": {
      "text/plain": [
       "        q_id     u_id                                             q_text  \\\n",
       "0   48603980  9763253  java - write call to socket output stream bloc...   \n",
       "0   50498949  1753073  how to convert utc date string and remove the ...   \n",
       "0   52627023  1553851  how can i create profiles with spring boot + ....   \n",
       "0   51713421  9164141  pass bigdecimal numbers in javai want to pass ...   \n",
       "0   50714411  5862071  redirection of a jsp page back to itself with ...   \n",
       "..       ...      ...                                                ...   \n",
       "0   48048396  1262248  receiver to alarm activity bundle returning nu...   \n",
       "0   48048167  9959152  unable to resolve generic error in rest apii a...   \n",
       "0   48047270  1383240  how to insert an object into a linkedlist depe...   \n",
       "0   48047192  5772882  apache poi read txt file as an excel filecould...   \n",
       "0   48046839  4571931  broken logic? - ascending and descending order...   \n",
       "\n",
       "                                               a_text      q_time      a_time  \\\n",
       "0   solution: write like this: void placement(rela...  1535992900  1535993675   \n",
       "0   in onloadfinished method of mainactivity class...  1536467500  1536473438   \n",
       "0   use arrays.stream(): // end index is exclusive...  1524169452  1524171592   \n",
       "0   you can also disable the warnings if you need ...  1532597159  1562615401   \n",
       "0   you can do so with: person.stream() .filter(x ...  1522953212  1522953763   \n",
       "..                                                ...         ...         ...   \n",
       "0   you can simply take the company id from the ob...  1532278327  1532278670   \n",
       "0   from the documentation public socket(string ho...  1534019590  1534019856   \n",
       "0   if the servers are just a replication of each ...  1539286445  1539286857   \n",
       "0   locale de = locale.forlanguagetag(\"de\"); weekf...  1526536640  1526540066   \n",
       "0   you have added \",\" instead of \".\" while passin...  1537792085  1537795543   \n",
       "\n",
       "                       r  \n",
       "0   [0.0, 0.0, 0.0, 1.0]  \n",
       "0   [0.0, 0.0, 0.0, 1.0]  \n",
       "0   [0.0, 0.0, 0.0, 1.0]  \n",
       "0   [0.0, 0.0, 0.0, 1.0]  \n",
       "0   [0.0, 0.0, 0.0, 1.0]  \n",
       "..                   ...  \n",
       "0   [0.0, 0.0, 0.0, 1.0]  \n",
       "0   [0.0, 0.0, 0.0, 1.0]  \n",
       "0   [0.0, 0.0, 0.0, 1.0]  \n",
       "0   [0.0, 0.0, 0.0, 1.0]  \n",
       "0   [0.0, 0.0, 0.0, 1.0]  \n",
       "\n",
       "[26129 rows x 7 columns]"
      ],
      "text/html": "<div>\n<style scoped>\n    .dataframe tbody tr th:only-of-type {\n        vertical-align: middle;\n    }\n\n    .dataframe tbody tr th {\n        vertical-align: top;\n    }\n\n    .dataframe thead th {\n        text-align: right;\n    }\n</style>\n<table border=\"1\" class=\"dataframe\">\n  <thead>\n    <tr style=\"text-align: right;\">\n      <th></th>\n      <th>q_id</th>\n      <th>u_id</th>\n      <th>q_text</th>\n      <th>a_text</th>\n      <th>q_time</th>\n      <th>a_time</th>\n      <th>r</th>\n    </tr>\n  </thead>\n  <tbody>\n    <tr>\n      <th>0</th>\n      <td>48603980</td>\n      <td>9763253</td>\n      <td>java - write call to socket output stream bloc...</td>\n      <td>solution: write like this: void placement(rela...</td>\n      <td>1535992900</td>\n      <td>1535993675</td>\n      <td>[0.0, 0.0, 0.0, 1.0]</td>\n    </tr>\n    <tr>\n      <th>0</th>\n      <td>50498949</td>\n      <td>1753073</td>\n      <td>how to convert utc date string and remove the ...</td>\n      <td>in onloadfinished method of mainactivity class...</td>\n      <td>1536467500</td>\n      <td>1536473438</td>\n      <td>[0.0, 0.0, 0.0, 1.0]</td>\n    </tr>\n    <tr>\n      <th>0</th>\n      <td>52627023</td>\n      <td>1553851</td>\n      <td>how can i create profiles with spring boot + ....</td>\n      <td>use arrays.stream(): // end index is exclusive...</td>\n      <td>1524169452</td>\n      <td>1524171592</td>\n      <td>[0.0, 0.0, 0.0, 1.0]</td>\n    </tr>\n    <tr>\n      <th>0</th>\n      <td>51713421</td>\n      <td>9164141</td>\n      <td>pass bigdecimal numbers in javai want to pass ...</td>\n      <td>you can also disable the warnings if you need ...</td>\n      <td>1532597159</td>\n      <td>1562615401</td>\n      <td>[0.0, 0.0, 0.0, 1.0]</td>\n    </tr>\n    <tr>\n      <th>0</th>\n      <td>50714411</td>\n      <td>5862071</td>\n      <td>redirection of a jsp page back to itself with ...</td>\n      <td>you can do so with: person.stream() .filter(x ...</td>\n      <td>1522953212</td>\n      <td>1522953763</td>\n      <td>[0.0, 0.0, 0.0, 1.0]</td>\n    </tr>\n    <tr>\n      <th>...</th>\n      <td>...</td>\n      <td>...</td>\n      <td>...</td>\n      <td>...</td>\n      <td>...</td>\n      <td>...</td>\n      <td>...</td>\n    </tr>\n    <tr>\n      <th>0</th>\n      <td>48048396</td>\n      <td>1262248</td>\n      <td>receiver to alarm activity bundle returning nu...</td>\n      <td>you can simply take the company id from the ob...</td>\n      <td>1532278327</td>\n      <td>1532278670</td>\n      <td>[0.0, 0.0, 0.0, 1.0]</td>\n    </tr>\n    <tr>\n      <th>0</th>\n      <td>48048167</td>\n      <td>9959152</td>\n      <td>unable to resolve generic error in rest apii a...</td>\n      <td>from the documentation public socket(string ho...</td>\n      <td>1534019590</td>\n      <td>1534019856</td>\n      <td>[0.0, 0.0, 0.0, 1.0]</td>\n    </tr>\n    <tr>\n      <th>0</th>\n      <td>48047270</td>\n      <td>1383240</td>\n      <td>how to insert an object into a linkedlist depe...</td>\n      <td>if the servers are just a replication of each ...</td>\n      <td>1539286445</td>\n      <td>1539286857</td>\n      <td>[0.0, 0.0, 0.0, 1.0]</td>\n    </tr>\n    <tr>\n      <th>0</th>\n      <td>48047192</td>\n      <td>5772882</td>\n      <td>apache poi read txt file as an excel filecould...</td>\n      <td>locale de = locale.forlanguagetag(\"de\"); weekf...</td>\n      <td>1526536640</td>\n      <td>1526540066</td>\n      <td>[0.0, 0.0, 0.0, 1.0]</td>\n    </tr>\n    <tr>\n      <th>0</th>\n      <td>48046839</td>\n      <td>4571931</td>\n      <td>broken logic? - ascending and descending order...</td>\n      <td>you have added \",\" instead of \".\" while passin...</td>\n      <td>1537792085</td>\n      <td>1537795543</td>\n      <td>[0.0, 0.0, 0.0, 1.0]</td>\n    </tr>\n  </tbody>\n</table>\n<p>26129 rows × 7 columns</p>\n</div>"
     },
     "metadata": {},
     "execution_count": 6
    }
   ],
   "source": [
    "negSamples"
   ]
  },
  {
   "cell_type": "code",
   "execution_count": 7,
   "metadata": {},
   "outputs": [],
   "source": [
    "negSamples.to_csv(negSamples_p)\n",
    "negSamples.head(1000).to_csv(negSamples1000_p)"
   ]
  },
  {
   "cell_type": "code",
   "execution_count": null,
   "metadata": {},
   "outputs": [],
   "source": []
  }
 ]
}