{
 "cells": [
  {
   "cell_type": "code",
   "execution_count": 1,
   "source": [
    "# x_month1 = pd.DataFrame()\r\n",
    "# x_month2 = pd.DataFrame()\r\n",
    "# y_month1 = pd.DataFrame()\r\n",
    "# y_month2 = pd.DataFrame()\r\n",
    "from tqdm import tqdm\r\n",
    "import pandas as pd\r\n",
    "df_p = \"D:/OneDriveEdu/file/project2/QAData/GetDataSet3/qa_set_u21.csv\"\r\n",
    "DATA_PATH = 'D:/OneDriveEdu/file/project2/QAData/data/'\r\n",
    "\r\n",
    "df = pd.read_csv(df_p)\r\n",
    "def my_test(r):\r\n",
    "    if eval(r)[0] == 1:\r\n",
    "        return 0\r\n",
    "    if eval(r)[1] == 1:\r\n",
    "        return 1\r\n",
    "    if eval(r)[2] == 1:\r\n",
    "        return 2\r\n",
    "    if eval(r)[3] == 1:\r\n",
    "        return 3\r\n",
    "\r\n",
    "def my_test2(r):\r\n",
    "    if eval(r)[0] == 1:\r\n",
    "        return 0\r\n",
    "    if eval(r)[1] == 1:\r\n",
    "        return 1\r\n",
    "    if eval(r)[2] == 1:\r\n",
    "        return 1\r\n",
    "    if eval(r)[3] == 1:\r\n",
    "        return 1\r\n",
    " \r\n",
    "df['label'] = df.apply(lambda col: my_test(col['r']), axis=1)\r\n",
    "df['label2'] = df.apply(lambda col: my_test2(col['r']), axis=1)\r\n",
    "print (df.head())\r\n",
    "\r\n",
    "\r\n",
    "# features = ['q_text','a_text','q_id','u_id','q_time', 'a_time', 'r']\r\n",
    "features = ['q_text','a_text','q_id','u_id', 'a_id','q_time', 'a_time', 'r', 'label', 'score']\r\n",
    "\r\n",
    "month1=df[df['q_time']< 1517414400][features]     # 2.1\r\n",
    "\r\n",
    "month2=df[(df['q_time']>1517414400)&(df['q_time']<1519833600)][features]     # 3.1\r\n",
    "\r\n",
    "month3=df[(df['q_time']>1519833600)&(df['q_time']<1522512000)][features]     # 4.1\r\n",
    "\r\n",
    "month4=df[(df['q_time']>1522512000)&(df['q_time']<1525104000)][features]     # 5.1\r\n",
    "\r\n",
    "month5=df[(df['q_time']>1525104000)&(df['q_time']<1527782400)][features]     # 6.1\r\n",
    "\r\n",
    "month6=df[(df['q_time']>1527782400)&(df['q_time']<1530374400)][features]     # 7.1\r\n",
    "\r\n",
    "month7=df[(df['q_time']>1530374400)&(df['q_time']<1533052800)][features]     # 8.1\r\n",
    "\r\n",
    "month8=df[(df['q_time']>1533052800)&(df['q_time']<1535731200)][features]     # 9.1\r\n",
    "\r\n",
    "month9=df[(df['q_time']>1535731200)&(df['q_time']<1538323200)][features]     # 10.1\r\n",
    "\r\n",
    "month10=df[(df['q_time']>1538323200)&(df['q_time']<1541001600)][features]     # 11.1\r\n",
    "\r\n",
    "month11=df[(df['q_time']>1541001600)&(df['q_time']<1543593600)][features]     # 12.1\r\n",
    "\r\n",
    "month12=df[(df['q_time']>1543593600)&(df['q_time']<1546272000)][features]     # 2019.1.1\r\n",
    "\r\n",
    "\r\n",
    "month1.to_csv(DATA_PATH + \"month1.csv\")\r\n",
    "month2.to_csv(DATA_PATH + \"month2.csv\")\r\n",
    "month3.to_csv(DATA_PATH + \"month3.csv\")\r\n",
    "month4.to_csv(DATA_PATH + \"month4.csv\")\r\n",
    "month5.to_csv(DATA_PATH + \"month5.csv\")\r\n",
    "month6.to_csv(DATA_PATH + \"month6.csv\")\r\n",
    "month7.to_csv(DATA_PATH + \"month7.csv\")\r\n",
    "month8.to_csv(DATA_PATH + \"month8.csv\")\r\n",
    "month9.to_csv(DATA_PATH + \"month9.csv\")\r\n",
    "month10.to_csv(DATA_PATH + \"month10.csv\")\r\n",
    "month11.to_csv(DATA_PATH + \"month11.csv\")\r\n",
    "month12.to_csv(DATA_PATH + \"month12.csv\")\r\n",
    "    \r\n"
   ],
   "outputs": [
    {
     "output_type": "stream",
     "name": "stdout",
     "text": [
      "   Unnamed: 0  Unnamed: 0.1      q_id      q_time  \\\n",
      "0        4510             0  53625567  1543986891   \n",
      "1        5266             0  52690965  1538932562   \n",
      "2        5274             0  52693305  1538949775   \n",
      "3        8385             0  53976576  1546163020   \n",
      "4        8714             0  53958810  1546000933   \n",
      "\n",
      "                                              q_text  u_id      a_id  \\\n",
      "0  in java how many constructor can we create in ...  4725  53835539   \n",
      "1  randomaccessfile unexpected behavior for seek ...  4725  52691194   \n",
      "2  java .split() out of boundsi have a problem wi...  4725  52693790   \n",
      "3  generic method with stackmy code: public stati...  4725  53977248   \n",
      "4  two generic interfaces referencing each otheri...  4725  53959024   \n",
      "\n",
      "                                              a_text      a_time  \\\n",
      "0  tl;dr for a class with reasonable functionalit...  1545144381   \n",
      "1  in the former the offset is into the file you ...  1538934276   \n",
      "2  so you have examples like this #ch id=\"\" tvg-n...  1538954935   \n",
      "3  if you really wanted to use this algorithm for...  1546169556   \n",
      "4  public abstract class tileimpl&lt;s&gt; implem...  1546002108   \n",
      "\n",
      "                      r  score  label  label2  \n",
      "0  [0.0, 1.0, 0.0, 0.0]      0      1       1  \n",
      "1  [0.0, 1.0, 0.0, 0.0]      1      1       1  \n",
      "2  [0.0, 1.0, 0.0, 0.0]      1      1       1  \n",
      "3  [1.0, 0.0, 0.0, 0.0]      0      0       0  \n",
      "4  [1.0, 0.0, 0.0, 0.0]      0      0       0  \n"
     ]
    }
   ],
   "metadata": {
    "collapsed": true,
    "pycharm": {
     "is_executing": true
    }
   }
  },
  {
   "cell_type": "code",
   "execution_count": null,
   "source": [],
   "outputs": [],
   "metadata": {
    "collapsed": false,
    "pycharm": {
     "name": "#%%\n"
    }
   }
  },
  {
   "cell_type": "code",
   "execution_count": null,
   "source": [],
   "outputs": [],
   "metadata": {
    "collapsed": true
   }
  }
 ],
 "metadata": {
  "kernelspec": {
   "name": "python3",
   "display_name": "Python 3.6.13 64-bit ('linv2': conda)"
  },
  "language_info": {
   "codemirror_mode": {
    "name": "ipython",
    "version": 3
   },
   "file_extension": ".py",
   "mimetype": "text/x-python",
   "name": "python",
   "nbconvert_exporter": "python",
   "pygments_lexer": "ipython3",
   "version": "3.6.13"
  },
  "metadata": {
   "interpreter": {
    "hash": "88013d6309127783e48f7341c9e6c33e9bae0d94834cd555ff65bb03182db54c"
   }
  },
  "interpreter": {
   "hash": "8ebf807399a6ca6fe59080a47ee2d401a9a3ca880927dc6fde028b109ee5e727"
  }
 },
 "nbformat": 4,
 "nbformat_minor": 2
}