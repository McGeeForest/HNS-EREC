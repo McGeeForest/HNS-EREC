{
 "metadata": {
  "language_info": {
   "codemirror_mode": {
    "name": "ipython",
    "version": 3
   },
   "file_extension": ".py",
   "mimetype": "text/x-python",
   "name": "python",
   "nbconvert_exporter": "python",
   "pygments_lexer": "ipython3",
   "version": "3.6.1"
  },
  "orig_nbformat": 2,
  "kernelspec": {
   "name": "python361jvsc74a57bd088013d6309127783e48f7341c9e6c33e9bae0d94834cd555ff65bb03182db54c",
   "display_name": "Python 3.6.1 64-bit ('py36torchcpu': conda)"
  },
  "metadata": {
   "interpreter": {
    "hash": "88013d6309127783e48f7341c9e6c33e9bae0d94834cd555ff65bb03182db54c"
   }
  }
 },
 "nbformat": 4,
 "nbformat_minor": 2,
 "cells": [
  {
   "cell_type": "code",
   "execution_count": 4,
   "metadata": {},
   "outputs": [
    {
     "output_type": "stream",
     "name": "stdout",
     "text": [
      "   Unnamed: 0      q_id     u_id  \\\n0           0  48603980  9763253   \n1           0  50498949  1753073   \n2           0  52627023  1553851   \n3           0  51713421  9164141   \n4           0  50714411  5862071   \n\n                                              q_text  \\\n0  java - write call to socket output stream bloc...   \n1  how to convert utc date string and remove the ...   \n2  how can i create profiles with spring boot + ....   \n3  pass bigdecimal numbers in javai want to pass ...   \n4  redirection of a jsp page back to itself with ...   \n\n                                              a_text      q_time      a_time  \\\n0  solution: write like this: void placement(rela...  1535992900  1535993675   \n1  in onloadfinished method of mainactivity class...  1536467500  1536473438   \n2  use arrays.stream(): // end index is exclusive...  1524169452  1524171592   \n3  you can also disable the warnings if you need ...  1532597159  1562615401   \n4  you can do so with: person.stream() .filter(x ...  1522953212  1522953763   \n\n                      r  label  \n0  [0.0, 0.0, 0.0, 1.0]      3  \n1  [0.0, 0.0, 0.0, 1.0]      3  \n2  [0.0, 0.0, 0.0, 1.0]      3  \n3  [0.0, 0.0, 0.0, 1.0]      3  \n4  [0.0, 0.0, 0.0, 1.0]      3  \n"
     ]
    }
   ],
   "source": [
    "\n",
    "from tqdm import tqdm\n",
    "import pandas as pd\n",
    "# neg = \"neg\"\n",
    "neg = \"neg2\"\n",
    "negSamples_p = \"D:/OneDriveEdu/file/project2/QAData/GetDataSet3/\"+neg+\"Samples_u21.csv\"\n",
    "DATA_PATH = 'D:/OneDriveEdu/file/project2/QAData/data/'\n",
    "df = pd.read_csv(negSamples_p)\n",
    "\n",
    "def my_test(r):\n",
    "    if eval(r)[0] == 1:\n",
    "        return 0\n",
    "    if eval(r)[1] == 1:\n",
    "        return 1\n",
    "    if eval(r)[2] == 1:\n",
    "        return 2\n",
    "    if eval(r)[3] == 1:\n",
    "        return 3\n",
    " \n",
    "df['label'] = df.apply(lambda col: my_test(col['r']), axis=1)\n",
    "print (df.head())\n",
    "\n",
    "\n",
    "\n",
    "\n",
    "features = ['q_text','a_text','q_id','u_id', 'q_time', 'a_time', 'r', 'label']\n",
    "\n",
    "month1=df[df['q_time']< 1517414400][features]     # 2.1\n",
    "\n",
    "month2=df[(df['q_time']>1517414400)&(df['q_time']<1519833600)][features]     # 3.1\n",
    "\n",
    "month3=df[(df['q_time']>1519833600)&(df['q_time']<1522512000)][features]     # 4.1\n",
    "\n",
    "month4=df[(df['q_time']>1522512000)&(df['q_time']<1525104000)][features]     # 5.1\n",
    "\n",
    "month5=df[(df['q_time']>1525104000)&(df['q_time']<1527782400)][features]     # 6.1\n",
    "\n",
    "month6=df[(df['q_time']>1527782400)&(df['q_time']<1530374400)][features]     # 7.1\n",
    "\n",
    "month7=df[(df['q_time']>1530374400)&(df['q_time']<1533052800)][features]     # 8.1\n",
    "\n",
    "month8=df[(df['q_time']>1533052800)&(df['q_time']<1535731200)][features]     # 9.1\n",
    "\n",
    "month9=df[(df['q_time']>1535731200)&(df['q_time']<1538323200)][features]     # 10.1\n",
    "\n",
    "month10=df[(df['q_time']>1538323200)&(df['q_time']<1541001600)][features]     # 11.1\n",
    "\n",
    "month11=df[(df['q_time']>1541001600)&(df['q_time']<1543593600)][features]     # 12.1\n",
    "\n",
    "month12=df[(df['q_time']>1543593600)&(df['q_time']<1546272000)][features]     # 2019.1.1\n",
    "\n",
    "\n",
    "month1.to_csv(DATA_PATH + \"month1_\"+neg+\".csv\")\n",
    "month2.to_csv(DATA_PATH + \"month2_\"+neg+\".csv\")\n",
    "month3.to_csv(DATA_PATH + \"month3_\"+neg+\".csv\")\n",
    "month4.to_csv(DATA_PATH + \"month4_\"+neg+\".csv\")\n",
    "month5.to_csv(DATA_PATH + \"month5_\"+neg+\".csv\")\n",
    "month6.to_csv(DATA_PATH + \"month6_\"+neg+\".csv\")\n",
    "month7.to_csv(DATA_PATH + \"month7_\"+neg+\".csv\")\n",
    "month8.to_csv(DATA_PATH + \"month8_\"+neg+\".csv\")\n",
    "month9.to_csv(DATA_PATH + \"month9_\"+neg+\".csv\")\n",
    "month10.to_csv(DATA_PATH + \"month10_\"+neg+\".csv\")\n",
    "month11.to_csv(DATA_PATH + \"month11_\"+neg+\".csv\")\n",
    "month12.to_csv(DATA_PATH + \"month12_\"+neg+\".csv\")\n",
    "    \n"
   ]
  },
  {
   "cell_type": "code",
   "execution_count": null,
   "metadata": {},
   "outputs": [],
   "source": []
  }
 ]
}